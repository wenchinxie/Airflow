{
 "cells": [
  {
   "cell_type": "code",
   "execution_count": 5,
   "metadata": {},
   "outputs": [
    {
     "name": "stdout",
     "output_type": "stream",
     "text": [
      "he\n"
     ]
    },
    {
     "name": "stderr",
     "output_type": "stream",
     "text": [
      "/tmp/ipykernel_395/3993045904.py:24: DeprecationWarning: executable_path has been deprecated, please pass in a Service object\n",
      "  driver = webdriver.Chrome(executable_path=chromedriver_path,chrome_options=chrome_options)\n",
      "/tmp/ipykernel_395/3993045904.py:24: DeprecationWarning: use options instead of chrome_options\n",
      "  driver = webdriver.Chrome(executable_path=chromedriver_path,chrome_options=chrome_options)\n"
     ]
    },
    {
     "ename": "WebDriverException",
     "evalue": "Message: Can not connect to the Service /mnt/c/Program Files/Google/Chrome/Application/chromedriver.exe\n",
     "output_type": "error",
     "traceback": [
      "\u001b[0;31m---------------------------------------------------------------------------\u001b[0m",
      "\u001b[0;31mWebDriverException\u001b[0m                        Traceback (most recent call last)",
      "Cell \u001b[0;32mIn[5], line 24\u001b[0m\n\u001b[1;32m     22\u001b[0m chromedriver_path\u001b[39m=\u001b[39m\u001b[39m'\u001b[39m\u001b[39m/mnt/c/Program Files/Google/Chrome/Application/chromedriver.exe\u001b[39m\u001b[39m'\u001b[39m\n\u001b[1;32m     23\u001b[0m \u001b[39mprint\u001b[39m(\u001b[39m'\u001b[39m\u001b[39mhe\u001b[39m\u001b[39m'\u001b[39m)\n\u001b[0;32m---> 24\u001b[0m driver \u001b[39m=\u001b[39m webdriver\u001b[39m.\u001b[39;49mChrome(executable_path\u001b[39m=\u001b[39;49mchromedriver_path,chrome_options\u001b[39m=\u001b[39;49mchrome_options)\n\u001b[1;32m     25\u001b[0m \u001b[39mtry\u001b[39;00m:\n\u001b[1;32m     26\u001b[0m     url \u001b[39m=\u001b[39m \u001b[39m'\u001b[39m\u001b[39mhttps://www.twse.com.tw/pcversion/zh/page/trading/fund/TWT38U.html\u001b[39m\u001b[39m'\u001b[39m\n",
      "File \u001b[0;32m~/AT_WEB/lib/python3.10/site-packages/selenium/webdriver/chrome/webdriver.py:80\u001b[0m, in \u001b[0;36mWebDriver.__init__\u001b[0;34m(self, executable_path, port, options, service_args, desired_capabilities, service_log_path, chrome_options, service, keep_alive)\u001b[0m\n\u001b[1;32m     77\u001b[0m \u001b[39mif\u001b[39;00m \u001b[39mnot\u001b[39;00m service:\n\u001b[1;32m     78\u001b[0m     service \u001b[39m=\u001b[39m Service(executable_path, port, service_args, service_log_path)\n\u001b[0;32m---> 80\u001b[0m \u001b[39msuper\u001b[39;49m()\u001b[39m.\u001b[39;49m\u001b[39m__init__\u001b[39;49m(\n\u001b[1;32m     81\u001b[0m     DesiredCapabilities\u001b[39m.\u001b[39;49mCHROME[\u001b[39m\"\u001b[39;49m\u001b[39mbrowserName\u001b[39;49m\u001b[39m\"\u001b[39;49m],\n\u001b[1;32m     82\u001b[0m     \u001b[39m\"\u001b[39;49m\u001b[39mgoog\u001b[39;49m\u001b[39m\"\u001b[39;49m,\n\u001b[1;32m     83\u001b[0m     port,\n\u001b[1;32m     84\u001b[0m     options,\n\u001b[1;32m     85\u001b[0m     service_args,\n\u001b[1;32m     86\u001b[0m     desired_capabilities,\n\u001b[1;32m     87\u001b[0m     service_log_path,\n\u001b[1;32m     88\u001b[0m     service,\n\u001b[1;32m     89\u001b[0m     keep_alive,\n\u001b[1;32m     90\u001b[0m )\n",
      "File \u001b[0;32m~/AT_WEB/lib/python3.10/site-packages/selenium/webdriver/chromium/webdriver.py:101\u001b[0m, in \u001b[0;36mChromiumDriver.__init__\u001b[0;34m(self, browser_name, vendor_prefix, port, options, service_args, desired_capabilities, service_log_path, service, keep_alive)\u001b[0m\n\u001b[1;32m     98\u001b[0m     \u001b[39mraise\u001b[39;00m \u001b[39mAttributeError\u001b[39;00m(\u001b[39m\"\u001b[39m\u001b[39mservice cannot be None\u001b[39m\u001b[39m\"\u001b[39m)\n\u001b[1;32m    100\u001b[0m \u001b[39mself\u001b[39m\u001b[39m.\u001b[39mservice \u001b[39m=\u001b[39m service\n\u001b[0;32m--> 101\u001b[0m \u001b[39mself\u001b[39;49m\u001b[39m.\u001b[39;49mservice\u001b[39m.\u001b[39;49mstart()\n\u001b[1;32m    103\u001b[0m \u001b[39mtry\u001b[39;00m:\n\u001b[1;32m    104\u001b[0m     \u001b[39msuper\u001b[39m()\u001b[39m.\u001b[39m\u001b[39m__init__\u001b[39m(\n\u001b[1;32m    105\u001b[0m         command_executor\u001b[39m=\u001b[39mChromiumRemoteConnection(\n\u001b[1;32m    106\u001b[0m             remote_server_addr\u001b[39m=\u001b[39m\u001b[39mself\u001b[39m\u001b[39m.\u001b[39mservice\u001b[39m.\u001b[39mservice_url,\n\u001b[0;32m   (...)\u001b[0m\n\u001b[1;32m    112\u001b[0m         options\u001b[39m=\u001b[39moptions,\n\u001b[1;32m    113\u001b[0m     )\n",
      "File \u001b[0;32m~/AT_WEB/lib/python3.10/site-packages/selenium/webdriver/common/service.py:111\u001b[0m, in \u001b[0;36mService.start\u001b[0;34m(self)\u001b[0m\n\u001b[1;32m    109\u001b[0m sleep(\u001b[39m0.5\u001b[39m)\n\u001b[1;32m    110\u001b[0m \u001b[39mif\u001b[39;00m count \u001b[39m==\u001b[39m \u001b[39m60\u001b[39m:\n\u001b[0;32m--> 111\u001b[0m     \u001b[39mraise\u001b[39;00m WebDriverException(\u001b[39mf\u001b[39m\u001b[39m\"\u001b[39m\u001b[39mCan not connect to the Service \u001b[39m\u001b[39m{\u001b[39;00m\u001b[39mself\u001b[39m\u001b[39m.\u001b[39mpath\u001b[39m}\u001b[39;00m\u001b[39m\"\u001b[39m)\n",
      "\u001b[0;31mWebDriverException\u001b[0m: Message: Can not connect to the Service /mnt/c/Program Files/Google/Chrome/Application/chromedriver.exe\n"
     ]
    }
   ],
   "source": [
    "from selenium import webdriver\n",
    "from selenium.webdriver.chrome.options import Options\n",
    "from selenium.webdriver.common.by import By\n",
    "from selenium.webdriver.support.ui import WebDriverWait\n",
    "from selenium.webdriver.support import expected_conditions as EC\n",
    "from selenium.webdriver.chrome.service import Service\n",
    "from webdriver_manager.chrome import ChromeDriverManager\n",
    "\n",
    "from faker import Faker\n",
    "\n",
    "fake = 'Mozilla/5.0 (Windows NT 10.0; Win64; x64) AppleWebKit/537.36 (KHTML, like Gecko) Chrome/114.0.0.0 Safari/537.36'\n",
    "\n",
    "\n",
    "chrome_options = Options()\n",
    "chrome_options.add_argument(f\"--user-agent={fake}\")\n",
    "chrome_options.add_argument('--no-sandbox')\n",
    "chrome_options.add_argument('--disable-extensions')\n",
    "chrome_options.add_argument(\"start-maximized\")\n",
    "chrome_options.add_argument(\"--remote-debugging-port=9222\")\n",
    "chrome_options.add_argument('--disable-dev-shm-usage')\n",
    "chrome_options.binary_location = \"/mnt/c/Program Files/Google/Chrome/Application/chrome.exe\"\n",
    "chromedriver_path='/mnt/c/Program Files/Google/Chrome/Application/chromedriver.exe'\n",
    "print('he')\n",
    "driver = webdriver.Chrome(executable_path=chromedriver_path,chrome_options=chrome_options)\n",
    "try:\n",
    "    url = 'https://www.twse.com.tw/pcversion/zh/page/trading/fund/TWT38U.html'\n",
    "    driver.get(url)\n",
    "    wait = WebDriverWait(driver, 600)\n",
    "    wait.until(EC.presence_of_element_located(\n",
    "                (By.XPATH, \"/html/body/div[1]/div[1]/div/div/main/div[2]/div[3]/div[1]/a[2]\")))\n",
    "    element = driver.find_element(By.XPATH,\"/html/body/div[1]/div[1]/div/div/main/div[2]/div[3]/div[1]/a[2]\")\n",
    "    element.click()\n",
    "    driver.close()\n",
    "    print('finish')\n",
    "except Exception as e:\n",
    "    print(e)\n",
    "    print('fail')\n",
    "    driver.close()"
   ]
  }
 ],
 "metadata": {
  "kernelspec": {
   "display_name": "at_web",
   "language": "python",
   "name": "at_web"
  },
  "language_info": {
   "codemirror_mode": {
    "name": "ipython",
    "version": 3
   },
   "file_extension": ".py",
   "mimetype": "text/x-python",
   "name": "python",
   "nbconvert_exporter": "python",
   "pygments_lexer": "ipython3",
   "version": "3.10.6"
  },
  "orig_nbformat": 4
 },
 "nbformat": 4,
 "nbformat_minor": 2
}
